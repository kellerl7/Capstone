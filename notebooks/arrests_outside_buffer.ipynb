{
 "cells": [
  {
   "cell_type": "code",
   "execution_count": null,
   "id": "ecfa136d-7ac2-4ca2-b5da-a9a2689cc4de",
   "metadata": {
    "tags": []
   },
   "outputs": [],
   "source": [
    "!pip install plotly"
   ]
  },
  {
   "cell_type": "code",
   "execution_count": null,
   "id": "72f0ef65-fef4-41d4-86fa-35dfff521311",
   "metadata": {
    "tags": []
   },
   "outputs": [],
   "source": [
    "pip install geopandas shapely"
   ]
  },
  {
   "cell_type": "code",
   "execution_count": null,
   "id": "4fcb02f0-ffe8-483d-80ac-b21903afaecd",
   "metadata": {
    "tags": []
   },
   "outputs": [],
   "source": [
    "import pandas as pd\n",
    "import plotly.express as px\n",
    "import geopandas as gpd\n",
    "from shapely.geometry import Point"
   ]
  },
  {
   "cell_type": "code",
   "execution_count": null,
   "id": "46ddd890-3065-4829-98d9-bb035f950a2a",
   "metadata": {
    "tags": []
   },
   "outputs": [],
   "source": [
    "NYPD_arrests_df = pd.read_csv('NYPD_Arrests_Data__Historic.csv')"
   ]
  },
  {
   "cell_type": "code",
   "execution_count": null,
   "id": "f15d95bb-afdb-450f-a375-33904b50172b",
   "metadata": {
    "tags": []
   },
   "outputs": [],
   "source": [
    "NYPD_arrests_df"
   ]
  },
  {
   "cell_type": "code",
   "execution_count": null,
   "id": "760914c9-c29a-432c-a8a7-9c58cc78e18f",
   "metadata": {
    "tags": []
   },
   "outputs": [],
   "source": [
    "print(NYPD_arrests_df.columns)"
   ]
  },
  {
   "cell_type": "code",
   "execution_count": null,
   "id": "c95b59ad-283a-4c97-b381-d1964eb13f78",
   "metadata": {
    "tags": []
   },
   "outputs": [],
   "source": [
    "# Convert ARREST_DATE to datetime in order to select a year\n",
    "NYPD_arrests_df[\"ARREST_DATE\"] = pd.to_datetime(NYPD_arrests_df[\"ARREST_DATE\"], errors=\"coerce\")\n",
    "NYPD_arrests_df_2023 = NYPD_arrests_df[NYPD_arrests_df[\"ARREST_DATE\"].dt.year == 2023]"
   ]
  },
  {
   "cell_type": "code",
   "execution_count": null,
   "id": "677dae1d-80ed-4226-af55-d82d1dc4ad14",
   "metadata": {
    "tags": []
   },
   "outputs": [],
   "source": [
    "# Create a scatter map using Plotly\n",
    "fig = px.scatter_mapbox(\n",
    "    NYPD_arrests_df_2023,\n",
    "    lat=\"Latitude\",\n",
    "    lon=\"Longitude\",\n",
    "    color=\"LAW_CAT_CD\",  # Colors dots by level of offense\n",
    "    hover_data=[\"OFNS_DESC\", \"ARREST_DATE\", \"ARREST_BORO\"],\n",
    "    zoom=12,\n",
    "    height=2000,\n",
    "    title=\"Sample of NYC Arrests in 2023 by Offense Level\"\n",
    ")\n",
    "\n",
    "# openstreetmap\n",
    "fig.update_layout(mapbox_style=\"open-street-map\")\n",
    "\n",
    "fig.show()"
   ]
  },
  {
   "cell_type": "code",
   "execution_count": null,
   "id": "dc1eae18-13b3-4869-8c86-1d735f3a7c91",
   "metadata": {
    "tags": []
   },
   "outputs": [],
   "source": [
    "# number of arressts in 2023\n",
    "len(NYPD_arrests_df_2023)"
   ]
  },
  {
   "cell_type": "code",
   "execution_count": null,
   "id": "e5fc3ed9-9f33-4589-8ef9-be4d246f8a91",
   "metadata": {
    "tags": []
   },
   "outputs": [],
   "source": [
    "facilities_df = pd.read_csv(\"Facilities_Database.csv\")\n",
    "facilities_df"
   ]
  },
  {
   "cell_type": "code",
   "execution_count": null,
   "id": "8a604cd6-ef2e-4b16-a87d-865ac1374fd7",
   "metadata": {
    "tags": []
   },
   "outputs": [],
   "source": [
    "public_facilities_df = facilities_df[facilities_df[\"optype\"] == \"Public\"]\n",
    "public_facilities_df"
   ]
  },
  {
   "cell_type": "code",
   "execution_count": null,
   "id": "3e66e8cc-131c-4723-8b19-ae9487753a34",
   "metadata": {
    "tags": []
   },
   "outputs": [],
   "source": [
    "# Set up the data to create a visualization that determines if an arrest was near public facilities\n",
    "\n",
    "arrest_df = NYPD_arrests_df_2023#[:1000] #selecting a specific bunch can be used to test and shorten load time (should randomize)\n",
    "facilities_df = facilities_df#[:1000]\n",
    "\n",
    "# Convert to geodataframes\n",
    "arrests_gdf = gpd.GeoDataFrame(\n",
    "    arrest_df,\n",
    "    geometry=gpd.points_from_xy(arrest_df[\"Longitude\"], arrest_df[\"Latitude\"]),\n",
    "    crs=\"EPSG:4326\"  # standard lat long system\n",
    ").to_crs(epsg=2263)  # NYC coordinate system in feet\n",
    "\n",
    "facilities_gdf = gpd.GeoDataFrame(\n",
    "    public_facilities_df,\n",
    "    geometry=gpd.points_from_xy(public_facilities_df[\"longitude\"], public_facilities_df[\"latitude\"]),\n",
    "    crs=\"EPSG:4326\"\n",
    ").to_crs(epsg=2263)\n",
    "\n",
    "# buffer zone around a facility\n",
    "buffer_dist_ft = 1000  # distance in ft\n",
    "fac_buffer = facilities_gdf.buffer(buffer_dist_ft)\n",
    "\n",
    "# merge the buffer zones into grouped circles (the circles each maintain their independent shape)\n",
    "combined_buffer = fac_buffer.unary_union\n",
    "\n",
    "# keep only arrests outside of the buffer area\n",
    "arrests_outside_buffer = arrests_gdf[~arrests_gdf.geometry.within(combined_buffer)]\n",
    "\n",
    "# Convert back to WGS84 (standard lat long system) for plotting\n",
    "arrests_outside_buffer = arrests_outside_buffer.to_crs(epsg=4326)\n",
    "\n",
    "\n"
   ]
  },
  {
   "cell_type": "code",
   "execution_count": null,
   "id": "2c2a8d63-4709-4b38-a7ca-9f5fb2992fbd",
   "metadata": {
    "tags": []
   },
   "outputs": [],
   "source": [
    "#create a visualization that determines if an arrest was near public facilities\n",
    "\n",
    "# Plot arrests outside buffer\n",
    "fig = px.scatter_mapbox(\n",
    "    arrests_outside_buffer,\n",
    "    lat=arrests_outside_buffer.geometry.y,\n",
    "    lon=arrests_outside_buffer.geometry.x,\n",
    "    color=\"LAW_CAT_CD\",\n",
    "    hover_data=[\"OFNS_DESC\", \"ARREST_DATE\"],\n",
    "    zoom=10,\n",
    "    height=700,\n",
    "    title=f\"2023 Arrests NOT Within {buffer_dist_ft}ft of a Public Facility\"\n",
    ")\n",
    "fig.update_layout(mapbox_style=\"open-street-map\")\n",
    "fig.show()"
   ]
  },
  {
   "cell_type": "code",
   "execution_count": null,
   "id": "1f6f5de4-4815-4fea-a1f7-af63710a62c5",
   "metadata": {
    "tags": []
   },
   "outputs": [],
   "source": [
    "# save arrests outside buffer df as a csv\n",
    "\n",
    "arrests_outside_buffer.to_csv(\"arrests_outside_buffer.csv\", index=False)\n"
   ]
  },
  {
   "cell_type": "code",
   "execution_count": null,
   "id": "354eb159-9dfb-4379-b3e4-3592c1222fad",
   "metadata": {},
   "outputs": [],
   "source": [
    "# I want to determine what percentage of the crimes occur next to or away from a public facility. Also should take into account\n",
    "# population density and socioeconomic differences of neighborhoods.\n",
    "\n",
    "# Compare count of crime closer to a public facility to crime a specific distance away from public facilities. \n",
    "# This will compare areas of the same density and socieconomics\n",
    "\n",
    "# By not specifying the facility I believe it helps prevent p-hacking. The goal is to show that public infrastructure has a positive\n",
    "# impact on the society it exists in. Specifying the type of public amenity could be beneficial as well though.\n",
    "\n",
    "# The impact of underfunding is a bit of a concern. With these public amenities underfunding is often a major issue. If funding for a plane\n",
    "# were only alotted to be 2/3 the price of the plane, the plane isn't going to get you there with a few more bumps. It is likely that the\n",
    "# plane in general just won't be able to fly at all and will therefore be unable to provide actual value and is instead just a cost.\n",
    "# That is partially why not specifying which public facilities could be beneficial. It generally assumes that on average the public facilities\n",
    "# are able to operate (\"fly\") and produce value.\n",
    "\n",
    "# Libraries and bus stop shelters don't seem to be part of this data set so can add them with the specific data sets related to them."
   ]
  }
 ],
 "metadata": {
  "kernelspec": {
   "display_name": "Python 3 (ipykernel)",
   "language": "python",
   "name": "python3"
  },
  "language_info": {
   "codemirror_mode": {
    "name": "ipython",
    "version": 3
   },
   "file_extension": ".py",
   "mimetype": "text/x-python",
   "name": "python",
   "nbconvert_exporter": "python",
   "pygments_lexer": "ipython3",
   "version": "3.9.13"
  }
 },
 "nbformat": 4,
 "nbformat_minor": 5
}
