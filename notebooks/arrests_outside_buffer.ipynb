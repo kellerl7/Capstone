{
 "cells": [
  {
   "cell_type": "code",
   "execution_count": null,
   "id": "ecfa136d-7ac2-4ca2-b5da-a9a2689cc4de",
   "metadata": {
    "tags": []
   },
   "outputs": [],
   "source": [
    "!pip install plotly"
   ]
  },
  {
   "cell_type": "code",
   "execution_count": null,
   "id": "72f0ef65-fef4-41d4-86fa-35dfff521311",
   "metadata": {
    "tags": []
   },
   "outputs": [],
   "source": [
    "pip install geopandas shapely"
   ]
  },
  {
   "cell_type": "code",
   "execution_count": null,
   "id": "4fcb02f0-ffe8-483d-80ac-b21903afaecd",
   "metadata": {
    "tags": []
   },
   "outputs": [],
   "source": [
    "import pandas as pd\n",
    "import plotly.express as px\n",
    "import geopandas as gpd\n",
    "from shapely.geometry import Point"
   ]
  },
  {
   "cell_type": "markdown",
   "id": "903ff763-0cd4-41fa-82f2-bf7ec8e541ca",
   "metadata": {},
   "source": [
    "## Create an interactive visualization that shows all crime in nyc"
   ]
  },
  {
   "cell_type": "code",
   "execution_count": null,
   "id": "46ddd890-3065-4829-98d9-bb035f950a2a",
   "metadata": {
    "tags": []
   },
   "outputs": [],
   "source": [
    "url = \"https://data.cityofnewyork.us/api/views/8h9b-rp9u/rows.csv?accessType=DOWNLOAD\"\n",
    "NYPD_arrests_df = pd.read_csv(url) # was too large to host directly in github\n",
    "NYPD_arrests_df\n",
    "\n",
    "#NYPD_arrests_df = pd.read_csv('NYPD_Arrests_Data__Historic.csv')"
   ]
  },
  {
   "cell_type": "code",
   "execution_count": null,
   "id": "f15d95bb-afdb-450f-a375-33904b50172b",
   "metadata": {
    "tags": []
   },
   "outputs": [],
   "source": [
    "NYPD_arrests_df"
   ]
  },
  {
   "cell_type": "code",
   "execution_count": null,
   "id": "dc5008d4-3ff9-4a4d-979d-9e4996822d71",
   "metadata": {
    "tags": []
   },
   "outputs": [],
   "source": [
    "# shorten the df to increase processing speed during testing\n",
    "# remove when not testing\n",
    "#NYPD_arrests_df = NYPD_arrests_df[0:1500]"
   ]
  },
  {
   "cell_type": "code",
   "execution_count": null,
   "id": "760914c9-c29a-432c-a8a7-9c58cc78e18f",
   "metadata": {
    "tags": []
   },
   "outputs": [],
   "source": [
    "print(NYPD_arrests_df.columns)"
   ]
  },
  {
   "cell_type": "code",
   "execution_count": null,
   "id": "c95b59ad-283a-4c97-b381-d1964eb13f78",
   "metadata": {
    "tags": []
   },
   "outputs": [],
   "source": [
    "# Convert ARREST_DATE to datetime in order to select a year\n",
    "NYPD_arrests_df[\"ARREST_DATE\"] = pd.to_datetime(NYPD_arrests_df[\"ARREST_DATE\"], errors=\"coerce\")\n",
    "year = 2023\n",
    "NYPD_arrests_df = NYPD_arrests_df[NYPD_arrests_df[\"ARREST_DATE\"].dt.year == year]"
   ]
  },
  {
   "cell_type": "code",
   "execution_count": null,
   "id": "cbe0963a-da60-4ebd-8c99-6a2ef31ae892",
   "metadata": {},
   "outputs": [],
   "source": [
    "# Unabbreviate Offense level\n",
    "NYPD_arrests_df[\"LAW_CAT_CD\"] = NYPD_arrests_df[\"LAW_CAT_CD\"].replace({\n",
    "    \"F\": \"Felony\",\n",
    "    \"M\": \"Misdemeanor\",\n",
    "    \"V\": \"Violation\",\n",
    "    \"9\": \"Other\",\n",
    "    \"I\": \"Other\"\n",
    "}).fillna(\"Other\")"
   ]
  },
  {
   "cell_type": "code",
   "execution_count": null,
   "id": "677dae1d-80ed-4226-af55-d82d1dc4ad14",
   "metadata": {
    "tags": []
   },
   "outputs": [],
   "source": [
    "# Create a scatter map using Plotly\n",
    "fig = px.scatter_mapbox(\n",
    "    NYPD_arrests_df,\n",
    "    lat=\"Latitude\",\n",
    "    lon=\"Longitude\",\n",
    "    color=\"LAW_CAT_CD\",  # Colors dots by level of offense\n",
    "    hover_data=[\"OFNS_DESC\", \"ARREST_DATE\", \"ARREST_BORO\"],\n",
    "    zoom=12,\n",
    "    height=2000,\n",
    "    title=\"Sample of NYC Arrests in {year} by Offense Level\"\n",
    ")\n",
    "\n",
    "# openstreetmap\n",
    "fig.update_layout(mapbox_style=\"open-street-map\")\n",
    "\n",
    "fig.show()"
   ]
  },
  {
   "cell_type": "code",
   "execution_count": null,
   "id": "dc1eae18-13b3-4869-8c86-1d735f3a7c91",
   "metadata": {
    "tags": []
   },
   "outputs": [],
   "source": [
    "# number of arressts in selected year\n",
    "len(NYPD_arrests_df)"
   ]
  },
  {
   "cell_type": "markdown",
   "id": "1f43bad4-5a18-4f38-b36d-00fb16871b43",
   "metadata": {},
   "source": [
    "## Creating an interactive visualization that highlights prevelance of public facilities\n",
    "Highlights crime outside of a specific distance from public facilities"
   ]
  },
  {
   "cell_type": "code",
   "execution_count": null,
   "id": "e5fc3ed9-9f33-4589-8ef9-be4d246f8a91",
   "metadata": {
    "tags": []
   },
   "outputs": [],
   "source": [
    "facilities_df = pd.read_csv(\"./Data/raw/Facilities_Database.csv\")\n",
    "facilities_df"
   ]
  },
  {
   "cell_type": "code",
   "execution_count": null,
   "id": "8a604cd6-ef2e-4b16-a87d-865ac1374fd7",
   "metadata": {
    "tags": []
   },
   "outputs": [],
   "source": [
    "public_facilities_df = facilities_df[facilities_df[\"optype\"] == \"Public\"]\n",
    "public_facilities_df"
   ]
  },
  {
   "cell_type": "code",
   "execution_count": null,
   "id": "3e66e8cc-131c-4723-8b19-ae9487753a34",
   "metadata": {
    "tags": []
   },
   "outputs": [],
   "source": [
    "# Set up the data to create a visualization that determines if an arrest was near public facilities\n",
    "\n",
    "arrest_df = NYPD_arrests_df#[:1000] #selecting a specific bunch can be used to test and shorten load time\n",
    "facilities_df = facilities_df#[:1000]\n",
    "\n",
    "# Convert to geodataframes\n",
    "arrests_gdf = gpd.GeoDataFrame(\n",
    "    arrest_df,\n",
    "    geometry=gpd.points_from_xy(arrest_df[\"Longitude\"], arrest_df[\"Latitude\"]),\n",
    "    crs=\"EPSG:4326\"  # standard lat long system\n",
    ").to_crs(epsg=2263)  # NYC coordinate system in feet\n",
    "\n",
    "facilities_gdf = gpd.GeoDataFrame(\n",
    "    public_facilities_df,\n",
    "    geometry=gpd.points_from_xy(public_facilities_df[\"longitude\"], public_facilities_df[\"latitude\"]),\n",
    "    crs=\"EPSG:4326\"\n",
    ").to_crs(epsg=2263)\n",
    "\n",
    "# buffer zone around a facility\n",
    "buffer_dist_ft = 1000  # distance in ft\n",
    "fac_buffer = facilities_gdf.buffer(buffer_dist_ft)\n",
    "\n",
    "# merge the buffer zones into grouped circles (the circles each maintain their independent shape)\n",
    "combined_buffer = fac_buffer.unary_union\n",
    "\n",
    "# keep only arrests outside of the buffer area\n",
    "arrests_outside_buffer = arrests_gdf[~arrests_gdf.geometry.within(combined_buffer)]\n",
    "\n",
    "# Convert back to WGS84 (standard lat long system) for plotting\n",
    "arrests_outside_buffer = arrests_outside_buffer.to_crs(epsg=4326)"
   ]
  },
  {
   "cell_type": "code",
   "execution_count": null,
   "id": "2c2a8d63-4709-4b38-a7ca-9f5fb2992fbd",
   "metadata": {
    "tags": []
   },
   "outputs": [],
   "source": [
    "#create a visualization that determines if an arrest was near public facilities\n",
    "\n",
    "# Plot arrests outside buffer\n",
    "fig = px.scatter_mapbox(\n",
    "    arrests_outside_buffer,\n",
    "    lat=arrests_outside_buffer.geometry.y,\n",
    "    lon=arrests_outside_buffer.geometry.x,\n",
    "    color=\"LAW_CAT_CD\",\n",
    "    hover_data=[\"OFNS_DESC\", \"ARREST_DATE\"],\n",
    "    zoom=10,\n",
    "    height=700,\n",
    "    title=f\"{year} Arrests NOT Within {buffer_dist_ft}ft of a Public Facility\"\n",
    ")\n",
    "fig.update_layout(mapbox_style=\"open-street-map\")\n",
    "fig.show()"
   ]
  },
  {
   "cell_type": "code",
   "execution_count": null,
   "id": "1f6f5de4-4815-4fea-a1f7-af63710a62c5",
   "metadata": {
    "tags": []
   },
   "outputs": [],
   "source": [
    "# save arrests outside buffer df as a csv\n",
    "#arrests_outside_buffer.to_csv(\"arrests_outside_buffer.csv\", index=False)"
   ]
  },
  {
   "cell_type": "markdown",
   "id": "3d3444ad-b6bb-40df-a71b-ef03e2578076",
   "metadata": {},
   "source": [
    "## Using buffer area to calculate public facility per capita effect on the rate of crime by neighborhood"
   ]
  },
  {
   "cell_type": "code",
   "execution_count": null,
   "id": "f9bbfce6-0231-4dfc-a50e-2f3c52e8bcf6",
   "metadata": {
    "tags": []
   },
   "outputs": [],
   "source": [
    "# Load NTA (neighborhood tabulation area) boundaries and project to feet\n",
    "# Neighborhood tabulation area is neighborhood boundaries\n",
    "nta = gpd.read_file(\"./Data/raw/2020_neighborhood_tabulation_areas.geojson\").to_crs(epsg=2263)\n",
    "\n",
    "# Create buffers around public facilities\n",
    "facilities_gdf = gpd.GeoDataFrame(\n",
    "    public_facilities_df,\n",
    "    geometry=gpd.points_from_xy(public_facilities_df[\"longitude\"], public_facilities_df[\"latitude\"]),\n",
    "    crs=\"EPSG:4326\"\n",
    ").to_crs(epsg=2263)\n",
    "facility_buffer = facilities_gdf.buffer(buffer_dist_ft).unary_union  # buffer\n",
    " \n",
    "# Get part of each NTA that overlaps with the buffer\n",
    "nta_clip = gpd.overlay(nta[[\"nta2020\", \"geometry\"]], gpd.GeoDataFrame(geometry=[facility_buffer], crs=nta.crs), how=\"intersection\")\n",
    "nta_clip[\"buffer_area\"] = nta_clip.geometry.area\n",
    "\n",
    "# Total area of each NTA\n",
    "nta[\"total_area\"] = nta.geometry.area\n",
    "\n",
    "# Sum bufered area per NTA and merge with total\n",
    "buffered_area = nta_clip.groupby(\"nta2020\")[\"buffer_area\"].sum().reset_index()\n",
    "nta = nta.merge(buffered_area, on=\"nta2020\", how=\"left\")\n",
    "nta[\"buffer_area\"] = nta[\"buffer_area\"].fillna(0)\n",
    "nta[\"non_buffer_area\"] = nta[\"total_area\"] - nta[\"buffer_area\"]\n",
    "\n",
    "# Set up arrests GeoDataFrame\n",
    "arrests = gpd.GeoDataFrame(\n",
    "    NYPD_arrests_df.dropna(subset=[\"Longitude\", \"Latitude\"]),\n",
    "    geometry=gpd.points_from_xy(NYPD_arrests_df[\"Longitude\"], NYPD_arrests_df[\"Latitude\"]),\n",
    "    crs=\"EPSG:4326\"\n",
    ").to_crs(epsg=2263)\n",
    "\n",
    "# Attach each arrest to a neighborhood\n",
    "arrests = gpd.sjoin(arrests, nta[[\"nta2020\", \"geometry\"]], how=\"inner\", predicate=\"within\")\n",
    "\n",
    "# Notate arrests inside the buffer zone\n",
    "arrests[\"in_buffer\"] = arrests.geometry.within(facility_buffer)\n",
    "\n",
    "# Count arrests inside and outside the buffer for each NTA\n",
    "counts = arrests.groupby([\"nta2020\", \"in_buffer\"]).size().unstack(fill_value=0).reset_index()\n",
    "counts.columns = [\"nta2020\", \"outside_arrests\", \"inside_arrests\"]\n",
    "\n",
    "# Merge counts with area data\n",
    "nta = nta.merge(counts, on=\"nta2020\", how=\"left\")\n",
    "nta[\"inside_arrests\"] = nta[\"inside_arrests\"].fillna(0)\n",
    "nta[\"outside_arrests\"] = nta[\"outside_arrests\"].fillna(0)\n",
    "\n",
    "# Arrest density per square foot\n",
    "nta[\"inside_density\"] = nta[\"inside_arrests\"] / nta[\"buffer_area\"]\n",
    "nta[\"outside_density\"] = nta[\"outside_arrests\"] / nta[\"non_buffer_area\"]\n",
    "\n",
    "# Final view\n",
    "nta[[\"nta2020\", \"inside_arrests\", \"outside_arrests\",\"buffer_area\", \"non_buffer_area\",\"inside_density\", \"outside_density\"]]"
   ]
  },
  {
   "cell_type": "code",
   "execution_count": null,
   "id": "e970ce42-b957-4c23-8139-e1f38b2f7f9d",
   "metadata": {
    "tags": []
   },
   "outputs": [],
   "source": [
    "nta"
   ]
  },
  {
   "cell_type": "code",
   "execution_count": null,
   "id": "4f3c496d-7315-45b2-84ed-32f7060ee9a9",
   "metadata": {
    "tags": []
   },
   "outputs": [],
   "source": [
    "nta.columns"
   ]
  },
  {
   "cell_type": "code",
   "execution_count": null,
   "id": "013e8c60-5517-44af-9f7c-4e6939b12e86",
   "metadata": {
    "tags": []
   },
   "outputs": [],
   "source": [
    "nta[\"density_diff\"] = nta[\"inside_density\"] - nta[\"outside_density\"]\n",
    "nta[['ntaname','density_diff']]"
   ]
  },
  {
   "cell_type": "code",
   "execution_count": null,
   "id": "08dcd2b6-7cb6-4a5f-8c6e-a0b8e7859453",
   "metadata": {
    "tags": []
   },
   "outputs": [],
   "source": [
    "borough_avg_diff = nta.groupby(\"boroname\")[\"density_diff\"].mean().reset_index()\n",
    "borough_avg_diff.columns = [\"borough\", \"avg_density_difference\"]\n",
    "borough_avg_diff"
   ]
  },
  {
   "cell_type": "code",
   "execution_count": null,
   "id": "1ea5d19d-4c05-4e06-87d3-3efab0aa1488",
   "metadata": {
    "tags": []
   },
   "outputs": [],
   "source": [
    "#save nta as a geojson\n",
    "#nta.to_file(\"nta.geojson\", driver=\"GeoJSON\")\n",
    "\n",
    "# Can call it using the following: nta = gpd.read_file(\"nta.geojson\")"
   ]
  },
  {
   "cell_type": "markdown",
   "id": "76bb2141-2dff-4ff6-a757-675de29efdd9",
   "metadata": {},
   "source": [
    "## Evaluation of public facility effect on crime\n",
    "\n",
    "Per square foot there is the above increase in crime inside the buffer (avg_density_difference). This increase is not extraordinarily high. But the consistency across boroughs is hard to ignore, and is a bit concerning. Many public facilities are built to combat issues so they will generally be built nearby the problems they intend to alleviate. Also the public facilities were not filtered. A closer examination of facilities by type could be useful. For instance, prisons count as a public facility here. Filtering by public facility could be helpful, but we were a bit concerned about p-hacking. So we decided to be broad. Using buffer with a radius of 1000 feet may also not be perfect as it was slightly arbitrarily decided on based on what seemed to visually make sense for the 2nd visualizationa above. This allowed for some crime outside of buffer zones to show while creating noticeable buffer zones. Also, crime being the only barometer of success is also an imperfect measure for the effectiveness of all public facilities."
   ]
  }
 ],
 "metadata": {
  "kernelspec": {
   "display_name": "Python 3 (ipykernel)",
   "language": "python",
   "name": "python3"
  },
  "language_info": {
   "codemirror_mode": {
    "name": "ipython",
    "version": 3
   },
   "file_extension": ".py",
   "mimetype": "text/x-python",
   "name": "python",
   "nbconvert_exporter": "python",
   "pygments_lexer": "ipython3",
   "version": "3.9.13"
  }
 },
 "nbformat": 4,
 "nbformat_minor": 5
}
