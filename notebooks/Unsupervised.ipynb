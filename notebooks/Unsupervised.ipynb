{
 "cells": [
  {
   "cell_type": "code",
   "execution_count": null,
   "id": "2862c54f-3b65-412d-84e1-c4219d825ce9",
   "metadata": {},
   "outputs": [],
   "source": [
    "import pandas as pd\n",
    "from sklearn.decomposition import PCA\n",
    "from sklearn.preprocessing import StandardScaler\n",
    "from sklearn.cluster import KMeans\n",
    "import matplotlib.pyplot as plt"
   ]
  },
  {
   "cell_type": "code",
   "execution_count": null,
   "id": "8c3af3fc-9dc8-4995-957b-86b7464efaea",
   "metadata": {},
   "outputs": [],
   "source": [
    "df1 = pd.read_csv('../Data/public_fac.csv')\n",
    "df2 = pd.read_csv('../Data/prop_values.csv')"
   ]
  },
  {
   "cell_type": "code",
   "execution_count": null,
   "id": "18286840-d151-491b-be23-0481bba883e0",
   "metadata": {},
   "outputs": [],
   "source": [
    "df1['score'] = 1\n",
    "df_p = df1.pivot_table(index = 'zipcode', columns = 'facgroup', aggfunc='sum', values = 'score')\n",
    "df_p = df_p.fillna(0)"
   ]
  },
  {
   "cell_type": "code",
   "execution_count": null,
   "id": "a5d02daa-d950-4571-b0e4-5a698921db98",
   "metadata": {},
   "outputs": [],
   "source": [
    "df2_g = df2[['zip', 'revised_market_value']].groupby(by = 'zip').mean()"
   ]
  },
  {
   "cell_type": "code",
   "execution_count": null,
   "id": "beb7aa60-aee7-42c2-a997-2cddfeacfb4a",
   "metadata": {},
   "outputs": [],
   "source": [
    "df_p['zip'] = df_p.index\n",
    "df_m = df_p.merge(df2_g, left_on='zip', right_on='zip')\n",
    "df_m = df_m[~(df_m['zip']==11201.0)]"
   ]
  },
  {
   "cell_type": "code",
   "execution_count": null,
   "id": "be871c30-a573-4c2c-9d68-ec025b0aa23e",
   "metadata": {},
   "outputs": [],
   "source": [
    "to_scale = df_m.columns[:-1].to_list()\n",
    "to_scale.append('revised_market_value')"
   ]
  },
  {
   "cell_type": "code",
   "execution_count": null,
   "id": "3187fe87-0d7b-401c-a322-1bdd1c22a5eb",
   "metadata": {},
   "outputs": [],
   "source": [
    "scaler = StandardScaler()\n",
    "df_s = pd.DataFrame(scaler.fit_transform(df_m[to_scale]), columns = to_scale)"
   ]
  },
  {
   "cell_type": "code",
   "execution_count": null,
   "id": "d3811609-5b9b-47ae-b666-ae2cfe179719",
   "metadata": {},
   "outputs": [],
   "source": [
    "wcss = []\n",
    "n_max = 15\n",
    "for k in range(1, n_max):\n",
    "    kmeans = KMeans(n_clusters=k, random_state=42, n_init=10)\n",
    "    kmeans.fit(df_s[to_scale])\n",
    "    wcss.append(kmeans.inertia_)\n",
    "    \n",
    "plt.figure(figsize=(8, 5))\n",
    "plt.plot(range(1,n_max), wcss, marker=\"o\", linestyle=\"-\")\n",
    "plt.xlabel(\"Number of Clusters (K)\")\n",
    "plt.ylabel(\"Within-Cluster Sum of Squares (WCSS)\")\n",
    "plt.title(\"Elbow Method for Optimal K\")\n",
    "plt.grid(True)\n",
    "plt.show()"
   ]
  },
  {
   "cell_type": "code",
   "execution_count": null,
   "id": "277f8b25-ba4e-47b2-a377-3751f6b9638f",
   "metadata": {},
   "outputs": [],
   "source": [
    "optimal_k = 4\n",
    "kmeans = KMeans(n_clusters=optimal_k, random_state=42, n_init=10)\n",
    "df_s[\"Cluster\"] = kmeans.fit_predict(df_s[to_scale])\n",
    "df_m[\"Cluster\"] = kmeans.fit_predict(df_s[to_scale])"
   ]
  },
  {
   "cell_type": "code",
   "execution_count": null,
   "id": "03b586a3-430a-4a6b-ba01-94f7dcf6d4e9",
   "metadata": {},
   "outputs": [],
   "source": [
    "import seaborn as sns\n",
    "\n",
    "pca = PCA(2)\n",
    "pca_components = pca.fit_transform(df_s[to_scale])\n",
    "df_s[\"PCA1\"], df_s[\"PCA2\"] = pca_components[:, 0], pca_components[:, 1]\n",
    "\n",
    "pca_loadings = pd.DataFrame(\n",
    "        pca.components_,\n",
    "        columns=to_scale,\n",
    "        index=[\"PCA1\", \"PCA2\"]\n",
    "    )\n",
    "\n",
    "plt.figure(figsize=(8,6))\n",
    "sns.scatterplot(x=df_s[\"PCA1\"], y=df_s[\"PCA2\"], hue=df_s[\"Cluster\"], palette=\"viridis\", alpha=0.7)\n",
    "plt.title(\"Cluster Visualization using PCA\")\n",
    "plt.xlabel(\"PCA Component 1\")\n",
    "plt.ylabel(\"PCA Component 2\")\n",
    "plt.legend(title=\"Cluster\")\n",
    "plt.grid(True)\n",
    "plt.show()"
   ]
  },
  {
   "cell_type": "code",
   "execution_count": null,
   "id": "bc6d6107-6c27-4532-9ee5-a2321e0e92ce",
   "metadata": {},
   "outputs": [],
   "source": [
    "c_avg = df_m.groupby('Cluster').mean()\n",
    "c_diff = (c_avg - df_m.mean())/df_m.std()\n",
    "c_d = c_diff.copy()\n",
    "c_diff.drop(['zip', 'revised_market_value'], axis = 1, inplace = True)\n",
    "\n",
    "for c in range(optimal_k):\n",
    "    print('Cluster: ', c, ' Number of zip codes: ', df_m.groupby('Cluster').count().iloc[c, 0])\n",
    "    print('z score of housing value:', c_d.iloc[c, 26] )\n",
    "    print(c_diff.T.sort_values(by = c, ascending = False).iloc[0:5, c])\n",
    "    print('\\n')\n",
    "    print(c_diff.T.sort_values(by = c, ascending = True).iloc[0:5, c])\n",
    "    print('\\n')"
   ]
  },
  {
   "cell_type": "code",
   "execution_count": null,
   "id": "3f8f512a-caf6-41d5-a354-ee5e69487248",
   "metadata": {},
   "outputs": [],
   "source": [
    "import plotly.express as px\n",
    "from urllib.request import urlopen\n",
    "import json\n",
    "#UNCOMMENT TO SEE PLOT\n",
    "'''\n",
    "with open('../data/ny_new_york_zip_codes_geo.min.json', 'rb') as f:\n",
    "    nyc_zip = json.load(f)\n",
    "'''"
   ]
  },
  {
   "cell_type": "code",
   "execution_count": null,
   "id": "8c6bc2df-e4f6-4b03-97bb-2fe6607b8039",
   "metadata": {},
   "outputs": [],
   "source": [
    "'''\n",
    "fig = px.choropleth_map(\n",
    "    df_m,\n",
    "    geojson=nyc_zip,\n",
    "    featureidkey='properties.ZCTA5CE10',\n",
    "    locations='zip',\n",
    "    color='Cluster',\n",
    "    map_style='outdoors',\n",
    "    center={'lat': 40.71, \"lon\": -74.01},\n",
    "    zoom = 8\n",
    ")\n",
    "fig.show()\n",
    "'''"
   ]
  },
  {
   "cell_type": "code",
   "execution_count": null,
   "id": "e5756ed9-6f8f-4e59-94b5-d61d6c6290a4",
   "metadata": {},
   "outputs": [],
   "source": []
  }
 ],
 "metadata": {
  "kernelspec": {
   "display_name": "Python 3 (ipykernel)",
   "language": "python",
   "name": "python3"
  },
  "language_info": {
   "codemirror_mode": {
    "name": "ipython",
    "version": 3
   },
   "file_extension": ".py",
   "mimetype": "text/x-python",
   "name": "python",
   "nbconvert_exporter": "python",
   "pygments_lexer": "ipython3",
   "version": "3.12.7"
  }
 },
 "nbformat": 4,
 "nbformat_minor": 5
}
